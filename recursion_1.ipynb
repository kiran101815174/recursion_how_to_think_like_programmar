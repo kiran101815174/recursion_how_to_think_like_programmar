{
  "nbformat": 4,
  "nbformat_minor": 0,
  "metadata": {
    "colab": {
      "name": "recursion_1.ipynb",
      "provenance": []
    },
    "kernelspec": {
      "name": "python3",
      "display_name": "Python 3"
    },
    "language_info": {
      "name": "python"
    }
  },
  "cells": [
    {
      "cell_type": "code",
      "metadata": {
        "colab": {
          "base_uri": "https://localhost:8080/"
        },
        "id": "XNxY7448Llav",
        "outputId": "16a184b4-214e-4d05-f248-ecfad6ed9fbe"
      },
      "source": [
        "def only_pos(arr,size):\n",
        "  if size==0:\n",
        "    return 0\n",
        "  if arr[size-1]>0:\n",
        "    return arr[size-1]+only_pos(arr,size-1)\n",
        "  return only_pos(arr,size-1)\n",
        "arr=[1,-1,2,-100,3]\n",
        "print(only_pos(arr,5))"
      ],
      "execution_count": 1,
      "outputs": [
        {
          "output_type": "stream",
          "name": "stdout",
          "text": [
            "6\n"
          ]
        }
      ]
    }
  ]
}