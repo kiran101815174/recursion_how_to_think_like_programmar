{
  "nbformat": 4,
  "nbformat_minor": 0,
  "metadata": {
    "colab": {
      "name": "recursion_10.ipynb",
      "provenance": []
    },
    "kernelspec": {
      "name": "python3",
      "display_name": "Python 3"
    },
    "language_info": {
      "name": "python"
    }
  },
  "cells": [
    {
      "cell_type": "code",
      "metadata": {
        "colab": {
          "base_uri": "https://localhost:8080/"
        },
        "id": "39Fz-8VZ_Vl2",
        "outputId": "2bf9d131-9f31-4a9c-cbae-fe5d67b73619"
      },
      "source": [
        "#binary search tree\n",
        "#left node less value right node more value\n",
        "class Binary_Node:\n",
        "  \n",
        "    # Function to initialize the node object\n",
        "    def __init__(self, data):\n",
        "        self.data = data  # Assign data\n",
        "        self.left = None  # Initialize\n",
        "        self.right =None   # next as null\n",
        "\n",
        "def is_bst(node):\n",
        "  # print(node.data)\n",
        "  if (node.left ==None) & (node.right ==None):\n",
        "    return True\n",
        "  elif node.left ==None:\n",
        "    if node.right.data > node.data:\n",
        "      return True\n",
        "  elif node.right ==None:\n",
        "    if node.left.data < node.data:\n",
        "      return True\n",
        "\n",
        "  left_ok = is_bst(node.left)\n",
        "  right_ok = is_bst(node.right)\n",
        "  if left_ok & right_ok :\n",
        "    if (node.left.data <node.data) & (node.right.data > node.data):\n",
        "      return True\n",
        "    else:\n",
        "      return False\n",
        "  return False\n",
        "\n",
        "\n",
        "main                   = Binary_Node(8)\n",
        "main.left              = Binary_Node(3)\n",
        "main.right             = Binary_Node(10)\n",
        "main.left.left         = Binary_Node(1)\n",
        "main.left.right        = Binary_Node(6)\n",
        "main.left.right.left   = Binary_Node(4)\n",
        "main.left.right.right  = Binary_Node(7)\n",
        "main.right.right       = Binary_Node(14)\n",
        "main.right.right.left  = Binary_Node(13)\n",
        "\n",
        "print(is_bst(main))\n"
      ],
      "execution_count": 12,
      "outputs": [
        {
          "output_type": "stream",
          "name": "stdout",
          "text": [
            "True\n"
          ]
        }
      ]
    }
  ]
}