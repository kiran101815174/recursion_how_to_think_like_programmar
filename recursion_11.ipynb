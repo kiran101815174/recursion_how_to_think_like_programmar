{
  "nbformat": 4,
  "nbformat_minor": 0,
  "metadata": {
    "colab": {
      "name": "recursion_11.ipynb",
      "provenance": [],
      "collapsed_sections": []
    },
    "kernelspec": {
      "name": "python3",
      "display_name": "Python 3"
    },
    "language_info": {
      "name": "python"
    }
  },
  "cells": [
    {
      "cell_type": "code",
      "metadata": {
        "colab": {
          "base_uri": "https://localhost:8080/"
        },
        "id": "i7LhbWaPnW-m",
        "outputId": "77fa3134-4511-4bdb-975c-54f633b4a9e5"
      },
      "source": [
        "#Enter Python code here and hit the Run button.\n",
        "COUNT = [10]\n",
        "class Binary_Node():\n",
        "    def __init__(self,data):\n",
        "        self.data=data\n",
        "        self.right=None\n",
        "        self.left= None\n",
        "        \n",
        "def insert(node,value):\n",
        "  if (node.left ==None) & (value< node.data):\n",
        "    node.left = Binary_Node(value)\n",
        "    return node\n",
        "    \n",
        "\n",
        "  if (node.right ==None) & (value > node.data):\n",
        "    node.right =Binary_Node(value)\n",
        "    return node\n",
        "\n",
        "  if value > node.data:\n",
        "    return insert(node.right,value)\n",
        "  else:\n",
        "    return insert(node.left,value)\n",
        "\n",
        "main                   = Binary_Node(8)\n",
        "main.left              = Binary_Node(3)\n",
        "main.right             = Binary_Node(10)\n",
        "main.left.left         = Binary_Node(1)\n",
        "main.left.right        = Binary_Node(6)\n",
        "main.left.right.left   = Binary_Node(4)\n",
        "main.left.right.right  = Binary_Node(7)\n",
        "main.right.right       = Binary_Node(14)\n",
        "main.right.right.left  = Binary_Node(13)\n",
        "print2D(main)\n",
        "print('--------------------------------------------------------------------------------------------------------------------------')\n",
        "insert(main,15)\n",
        "print2D(main)"
      ],
      "execution_count": 32,
      "outputs": [
        {
          "output_type": "stream",
          "name": "stdout",
          "text": [
            "\n",
            "                    14\n",
            "\n",
            "                              13\n",
            "\n",
            "          10\n",
            "\n",
            "8\n",
            "\n",
            "                              7\n",
            "\n",
            "                    6\n",
            "\n",
            "                              4\n",
            "\n",
            "          3\n",
            "\n",
            "                    1\n",
            "--------------------------------------------------------------------------------------------------------------------------\n",
            "\n",
            "                              15\n",
            "\n",
            "                    14\n",
            "\n",
            "                              13\n",
            "\n",
            "          10\n",
            "\n",
            "8\n",
            "\n",
            "                              7\n",
            "\n",
            "                    6\n",
            "\n",
            "                              4\n",
            "\n",
            "          3\n",
            "\n",
            "                    1\n"
          ]
        }
      ]
    },
    {
      "cell_type": "code",
      "metadata": {
        "id": "-oONyCy8lExP"
      },
      "source": [
        "def print2DUtil(root, space) :\n",
        " \n",
        "    # Base case\n",
        "    if (root == None) :\n",
        "        return\n",
        " \n",
        "    # Increase distance between levels\n",
        "    space += COUNT[0]\n",
        " \n",
        "    # Process right child first\n",
        "    print2DUtil(root.right, space)\n",
        " \n",
        "    # Print current node after space\n",
        "    # count\n",
        "    print()\n",
        "    for i in range(COUNT[0], space):\n",
        "        print(end = \" \")\n",
        "    print(root.data)\n",
        " \n",
        "    # Process left child\n",
        "    print2DUtil(root.left, space)\n",
        " \n",
        "# Wrapper over print2DUtil()\n",
        "def print2D(root) :\n",
        "     \n",
        "    # space=[0]\n",
        "    # Pass initial space count as 0\n",
        "    print2DUtil(root, 0)\n"
      ],
      "execution_count": 33,
      "outputs": []
    }
  ]
}