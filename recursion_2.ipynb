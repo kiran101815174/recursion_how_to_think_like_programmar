{
  "nbformat": 4,
  "nbformat_minor": 0,
  "metadata": {
    "colab": {
      "name": "recursion_2.ipynb",
      "provenance": []
    },
    "kernelspec": {
      "name": "python3",
      "display_name": "Python 3"
    },
    "language_info": {
      "name": "python"
    }
  },
  "cells": [
    {
      "cell_type": "code",
      "metadata": {
        "colab": {
          "base_uri": "https://localhost:8080/"
        },
        "id": "i8AuZWxu8xmN",
        "outputId": "4af51abd-3fb9-44e0-a5c0-cc3eb00d3bbf"
      },
      "source": [
        "def odd_parity_iteration(a,size):\n",
        "    count =0\n",
        "    for i in a:\n",
        "        if i==1:\n",
        "            count +=1\n",
        "    return count%2 ==1\n",
        "    \n",
        "def odd_recursion(a,size):\n",
        "    if size==0:\n",
        "        return False\n",
        "    p= odd_recursion(a,size-1)\n",
        "    if p:\n",
        "        return a[size-1]!=1\n",
        "    return a[size-1]==1\n",
        "    \n",
        "    \n",
        "    \n",
        "a1=[1,0,1,0,1]\n",
        "a2=[1,0,1,0,0]\n",
        "print(odd_recursion(a1,5))\n",
        "print(odd_recursion(a2,5))"
      ],
      "execution_count": 3,
      "outputs": [
        {
          "output_type": "stream",
          "name": "stdout",
          "text": [
            "True\n",
            "False\n"
          ]
        }
      ]
    }
  ]
}