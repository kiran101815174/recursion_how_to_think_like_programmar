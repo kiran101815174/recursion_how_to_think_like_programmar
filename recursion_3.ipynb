{
  "nbformat": 4,
  "nbformat_minor": 0,
  "metadata": {
    "colab": {
      "name": "recursion_3.ipynb",
      "provenance": []
    },
    "kernelspec": {
      "name": "python3",
      "display_name": "Python 3"
    },
    "language_info": {
      "name": "python"
    }
  },
  "cells": [
    {
      "cell_type": "code",
      "metadata": {
        "colab": {
          "base_uri": "https://localhost:8080/"
        },
        "id": "KrhwwrbS9SUj",
        "outputId": "0d07517a-25f9-4300-e543-b84135158204"
      },
      "source": [
        "def target_occ(a,size,target):\n",
        "  if size==0:\n",
        "    return False\n",
        "  if a[size-1]==target:\n",
        "    return 1+ target_occ(a,size-1,target)\n",
        "  return target_occ(a,size-1,target)\n",
        "\n",
        "arr=[1,2,4,5,6,7,2,3,4,2,4,2,4,2]\n",
        "#find occurances of 2\n",
        "print(target_occ(arr,len(arr),2)) "
      ],
      "execution_count": 1,
      "outputs": [
        {
          "output_type": "stream",
          "name": "stdout",
          "text": [
            "5\n"
          ]
        }
      ]
    },
    {
      "cell_type": "code",
      "metadata": {
        "id": "3vImR7fcG5WM"
      },
      "source": [
        ""
      ],
      "execution_count": null,
      "outputs": []
    }
  ]
}