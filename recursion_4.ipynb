{
  "nbformat": 4,
  "nbformat_minor": 0,
  "metadata": {
    "colab": {
      "name": "recursion_4.ipynb",
      "provenance": []
    },
    "kernelspec": {
      "name": "python3",
      "display_name": "Python 3"
    },
    "language_info": {
      "name": "python"
    }
  },
  "cells": [
    {
      "cell_type": "code",
      "metadata": {
        "colab": {
          "base_uri": "https://localhost:8080/"
        },
        "id": "ZU5T2pa1-BpD",
        "outputId": "0178d881-5d9d-46e1-dfcd-e4973c144fc5"
      },
      "source": [
        "# Print the array elements reversly\n",
        "def own(a,size):\n",
        "  if size==1:\n",
        "    print(a[0])\n",
        "    return\n",
        "  print(a[size-1]) \n",
        "  p=own(a,size-1)\n",
        "own([1,2,3,4,5,6,7,8,9,10],10)"
      ],
      "execution_count": 4,
      "outputs": [
        {
          "output_type": "stream",
          "name": "stdout",
          "text": [
            "10\n",
            "9\n",
            "8\n",
            "7\n",
            "6\n",
            "5\n",
            "4\n",
            "3\n",
            "2\n",
            "1\n"
          ]
        }
      ]
    }
  ]
}