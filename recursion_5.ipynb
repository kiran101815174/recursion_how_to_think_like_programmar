{
  "nbformat": 4,
  "nbformat_minor": 0,
  "metadata": {
    "colab": {
      "name": "recursion_5.ipynb",
      "provenance": []
    },
    "kernelspec": {
      "name": "python3",
      "display_name": "Python 3"
    },
    "language_info": {
      "name": "python"
    }
  },
  "cells": [
    {
      "cell_type": "code",
      "metadata": {
        "colab": {
          "base_uri": "https://localhost:8080/"
        },
        "id": "SXCh5GwdA_AQ",
        "outputId": "7bc72da9-ed08-4dba-f2e4-e7b06a95fce6"
      },
      "source": [
        "#sum of only those nodes which are positive\n",
        "class Node:\n",
        "  \n",
        "    # Function to initialize the node object\n",
        "    def __init__(self, data):\n",
        "        self.data = data  # Assign data\n",
        "        self.next = None  # Initialize\n",
        "                          # next as null\n",
        "def sum_pos(node):\n",
        "  if node.next==None:\n",
        "    if node.data>0:\n",
        "      return node.data\n",
        "    return 0\n",
        "  if node.data>0:\n",
        "    return node.data+sum_pos(node.next)\n",
        "  return sum_pos(node.next)\n",
        "\n",
        "  \n",
        "first = Node(1)\n",
        "first.next = Node(-3)\n",
        "first.next.next =Node(2)\n",
        "print(sum_pos(first))"
      ],
      "execution_count": 2,
      "outputs": [
        {
          "output_type": "stream",
          "name": "stdout",
          "text": [
            "3\n"
          ]
        }
      ]
    }
  ]
}