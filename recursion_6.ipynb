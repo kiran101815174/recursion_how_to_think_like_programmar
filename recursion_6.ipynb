{
  "nbformat": 4,
  "nbformat_minor": 0,
  "metadata": {
    "colab": {
      "name": "recursion_6.ipynb",
      "provenance": []
    },
    "kernelspec": {
      "name": "python3",
      "display_name": "Python 3"
    },
    "language_info": {
      "name": "python"
    }
  },
  "cells": [
    {
      "cell_type": "code",
      "metadata": {
        "colab": {
          "base_uri": "https://localhost:8080/"
        },
        "id": "DVhyH5PCCTUd",
        "outputId": "74eff62d-0210-49b4-d760-88831a999c4a"
      },
      "source": [
        "#2 in linked list\n",
        "class Node:\n",
        "  \n",
        "    # Function to initialize the node object\n",
        "    def __init__(self, data):\n",
        "        self.data = data  # Assign data\n",
        "        self.next = None  # Initialize\n",
        "                          # next as null\n",
        "def odd_par(node):\n",
        "  if node.next==None:\n",
        "    if node.data==1:\n",
        "      return True\n",
        "    return False\n",
        "  p=odd_par(node.next)\n",
        "  if p:\n",
        "    return node.data !=1\n",
        "  return node.data ==1\n",
        "\n",
        "\n",
        "\n",
        "first = Node(1)\n",
        "first.next = Node(0)\n",
        "first.next.next =Node(1)\n",
        "\n",
        "true_case =Node(1)\n",
        "true_case.next =Node(0)\n",
        "true_case.next.next =Node(1)\n",
        "true_case.next.next.next =Node(1)\n",
        "print(f'First Node odd parity: {odd_par(first)}')\n",
        "print(f'True case odd parity:  {odd_par(true_case)}')"
      ],
      "execution_count": 3,
      "outputs": [
        {
          "output_type": "stream",
          "name": "stdout",
          "text": [
            "First Node odd parity: False\n",
            "True case odd parity:  True\n"
          ]
        }
      ]
    }
  ]
}