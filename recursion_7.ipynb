{
  "nbformat": 4,
  "nbformat_minor": 0,
  "metadata": {
    "colab": {
      "name": "recursion_7.ipynb",
      "provenance": []
    },
    "kernelspec": {
      "name": "python3",
      "display_name": "Python 3"
    },
    "language_info": {
      "name": "python"
    }
  },
  "cells": [
    {
      "cell_type": "code",
      "metadata": {
        "colab": {
          "base_uri": "https://localhost:8080/"
        },
        "id": "VRzZxLvoExok",
        "outputId": "c1b5ec3d-cd83-4ed5-89f5-1b432d3ccf72"
      },
      "source": [
        "#3 in linked lists\n",
        "\n",
        "class Node:\n",
        "  \n",
        "    # Function to initialize the node object\n",
        "    def __init__(self, data):\n",
        "        self.data = data  # Assign data\n",
        "        self.next = None  # Initialize\n",
        "                          # next as null\n",
        "def target_occ(node,target):\n",
        "  if node.next==None:\n",
        "    if node.data ==target:\n",
        "      return 1\n",
        "    return 0\n",
        "  if node.data ==target:\n",
        "    return 1+ target_occ(node.next,target)\n",
        "  return target_occ(node.next,target)\n",
        "\n",
        "first = Node(1)\n",
        "first.next = Node(-3)\n",
        "first.next.next =Node(2)\n",
        "first.next.next.next =Node(-3)\n",
        "\n",
        "print(target_occ(first,-3))"
      ],
      "execution_count": 2,
      "outputs": [
        {
          "output_type": "stream",
          "name": "stdout",
          "text": [
            "2\n"
          ]
        }
      ]
    }
  ]
}