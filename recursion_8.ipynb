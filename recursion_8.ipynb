{
  "nbformat": 4,
  "nbformat_minor": 0,
  "metadata": {
    "colab": {
      "name": "recursion_8.ipynb",
      "provenance": []
    },
    "kernelspec": {
      "name": "python3",
      "display_name": "Python 3"
    },
    "language_info": {
      "name": "python"
    }
  },
  "cells": [
    {
      "cell_type": "code",
      "metadata": {
        "colab": {
          "base_uri": "https://localhost:8080/"
        },
        "id": "ciasPMueHRs5",
        "outputId": "8ec6a59d-0ecf-442b-91a1-49231e5590e6"
      },
      "source": [
        "#reverse print a linked list\n",
        "class Node:\n",
        "  \n",
        "    # Function to initialize the node object\n",
        "    def __init__(self, data):\n",
        "        self.data = data  # Assign data\n",
        "        self.next = None  # Initialize\n",
        "                          # next as null\n",
        "def print_reverse(node):\n",
        "  if node.next==None:\n",
        "    print(node.data)\n",
        "    return\n",
        "  print_reverse(node.next)\n",
        "  print(node.data)\n",
        "\n",
        "first = Node(1)\n",
        "first.next = Node(2)\n",
        "first.next.next =Node(3)\n",
        "first.next.next.next =Node(4)\n",
        "first.next.next.next.next =Node(5)\n",
        "print_reverse(first)\n"
      ],
      "execution_count": 3,
      "outputs": [
        {
          "output_type": "stream",
          "name": "stdout",
          "text": [
            "5\n",
            "4\n",
            "3\n",
            "2\n",
            "1\n"
          ]
        }
      ]
    }
  ]
}