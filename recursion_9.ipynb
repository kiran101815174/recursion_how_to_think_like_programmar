{
  "nbformat": 4,
  "nbformat_minor": 0,
  "metadata": {
    "colab": {
      "name": "recursion_9.ipynb",
      "provenance": []
    },
    "kernelspec": {
      "name": "python3",
      "display_name": "Python 3"
    },
    "language_info": {
      "name": "python"
    }
  },
  "cells": [
    {
      "cell_type": "code",
      "metadata": {
        "colab": {
          "base_uri": "https://localhost:8080/"
        },
        "id": "_1h8PRvbMvZ2",
        "outputId": "2c5d63ff-8fc3-40e9-9f54-3c8cbf07035b"
      },
      "source": [
        "#check if binarytree is max heap\n",
        "class Binary_Node:\n",
        "  \n",
        "    # Function to initialize the node object\n",
        "    def __init__(self, data):\n",
        "        self.data = data  # Assign data\n",
        "        self.left = None  # Initialize\n",
        "        self.right=None   # next as null\n",
        "def is_maxheap(node):\n",
        "  if (node.left == None) &(node.right ==None):\n",
        "    return True\n",
        "  left_ok = is_maxheap(node.left)\n",
        "  right_ok = is_maxheap(node.right)\n",
        "  if left_ok & right_ok:\n",
        "\n",
        "    if (node.data > node.left.data) & (node.data > node.right.data) :\n",
        "      return True\n",
        "    else:\n",
        "      return False\n",
        "  return False\n",
        "main = Binary_Node(100)\n",
        "main.left = Binary_Node(40)\n",
        "main.right = Binary_Node(50)\n",
        "main.left.left =  Binary_Node(10)\n",
        "main.left.right = Binary_Node(15)\n",
        "main.right.right= Binary_Node(40)\n",
        "main.right.left = Binary_Node(20)\n",
        "\n",
        "print(is_maxheap(main))\n",
        "    "
      ],
      "execution_count": 4,
      "outputs": [
        {
          "output_type": "stream",
          "name": "stdout",
          "text": [
            "True\n"
          ]
        }
      ]
    },
    {
      "cell_type": "code",
      "metadata": {
        "colab": {
          "base_uri": "https://localhost:8080/"
        },
        "id": "_Dd3zK8UqL_R",
        "outputId": "37f9a9b3-f0dd-4a97-eae2-df3d229f9bac"
      },
      "source": [
        "main = Binary_Node(100)\n",
        "main.left = Binary_Node(5)\n",
        "main.right = Binary_Node(50)\n",
        "main.left.left =  Binary_Node(10)\n",
        "main.left.right = Binary_Node(15)\n",
        "main.right.right= Binary_Node(40)\n",
        "main.right.left = Binary_Node(20)\n",
        "\n",
        "print(is_maxheap(main))\n",
        "    "
      ],
      "execution_count": 5,
      "outputs": [
        {
          "output_type": "stream",
          "name": "stdout",
          "text": [
            "False\n"
          ]
        }
      ]
    }
  ]
}